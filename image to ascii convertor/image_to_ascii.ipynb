{
 "cells": [
  {
   "cell_type": "markdown",
   "metadata": {},
   "source": [
    "IMPORTS:"
   ]
  },
  {
   "cell_type": "code",
   "execution_count": 37,
   "metadata": {},
   "outputs": [],
   "source": [
    "from PIL import Image\n",
    "import numpy as np"
   ]
  },
  {
   "cell_type": "markdown",
   "metadata": {},
   "source": [
    "SETTINGS:"
   ]
  },
  {
   "cell_type": "code",
   "execution_count": 38,
   "metadata": {},
   "outputs": [],
   "source": [
    "# the path of the image to convert to ascii art\n",
    "IMAGE_PATH = r\"example image.png\"\n",
    "\n",
    "# the path of the file the ascii art will be drown\n",
    "FILE_PATH = r\"example image in ascii.txt\"\n",
    "\n",
    "# the ascii caracters that will be uset to make the ascii art(goes from least filling the screen to the most filling the screen, this line is custumizebable)\n",
    "ASCII = \" .`,^-~*:;+=<|[{\" # the best characters I found \n"
   ]
  },
  {
   "cell_type": "markdown",
   "metadata": {},
   "source": [
    "FUNCTIONS:"
   ]
  },
  {
   "cell_type": "code",
   "execution_count": 39,
   "metadata": {},
   "outputs": [],
   "source": [
    "def image_to_ascii(img: np.ndarray, ascii: str, file_addr: str) -> None:\n",
    "    '''\n",
    "    image_to_ascii: turnes an grayscale image array int ascii art and writes it to a file\n",
    "    '''\n",
    "    \n",
    "    \n",
    "    # open a file to draw the ascii art\n",
    "    with open(file_addr, 'w') as file:\n",
    "        \n",
    "        # loop over the grayscale image array\n",
    "        for i in range(img.shape[0]):\n",
    "            for j in range(img.shape[1]):\n",
    "                \n",
    "                #replace the pixel to a corisponding ascii character from the string ascii\n",
    "                file.write(ascii[round(img[i, j] * len(ascii) / 255)])\n",
    "\n",
    "            #start new line\n",
    "            file.write(\"\\n\")\n",
    "            "
   ]
  },
  {
   "cell_type": "code",
   "execution_count": 40,
   "metadata": {},
   "outputs": [],
   "source": [
    "def process_image(image_path: str) -> np.ndarray:\n",
    "    '''\n",
    "    process_image: takes a path of an image, loads it in grayscale and converts it to an array\n",
    "    '''\n",
    "    \n",
    "    # open the image and convert it to grayscale\n",
    "    img = Image.open(image_path).convert(\"L\")\n",
    "    \n",
    "    # convert the image to an array\n",
    "    img = np.array(img)\n",
    "    \n",
    "    return img"
   ]
  },
  {
   "cell_type": "markdown",
   "metadata": {},
   "source": [
    "MAIN FUNCTION:"
   ]
  },
  {
   "cell_type": "code",
   "execution_count": 41,
   "metadata": {},
   "outputs": [],
   "source": [
    "def convert_image_to_ascii() -> None:\n",
    "    '''\n",
    "    the program converts an image to ascii art\n",
    "    '''\n",
    "    #get the image\n",
    "    img = process_image(IMAGE_PATH)\n",
    "    \n",
    "    #convert it to ascii art\n",
    "    image_to_ascii(img, ASCII, FILE_PATH)"
   ]
  },
  {
   "cell_type": "code",
   "execution_count": 42,
   "metadata": {},
   "outputs": [],
   "source": [
    "if __name__ == \"__main__\":\n",
    "    convert_image_to_ascii()"
   ]
  }
 ],
 "metadata": {
  "kernelspec": {
   "display_name": "Conda_VENV",
   "language": "python",
   "name": "python3"
  },
  "language_info": {
   "codemirror_mode": {
    "name": "ipython",
    "version": 3
   },
   "file_extension": ".py",
   "mimetype": "text/x-python",
   "name": "python",
   "nbconvert_exporter": "python",
   "pygments_lexer": "ipython3",
   "version": "3.10.11"
  }
 },
 "nbformat": 4,
 "nbformat_minor": 2
}
